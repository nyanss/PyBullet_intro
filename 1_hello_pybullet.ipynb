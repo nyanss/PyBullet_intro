{
 "cells": [
  {
   "cell_type": "code",
   "execution_count": 7,
   "id": "7544fe94",
   "metadata": {},
   "outputs": [],
   "source": [
    "import pybullet as pb\n",
    "import pybullet_data as pbd\n",
    "import time\n",
    "\n",
    "# 创建仿真环境，并打开图形界面\n",
    "pysicsClient = pb.connect(pb.GUI)\n",
    "\n",
    "# 设置额外搜索路径，加载模型文件时会在工作路径和此路径下搜索\n",
    "# 该路径默认为：%python安装路径%/Lib/site-packages/pybullet_data/\n",
    "pb.setAdditionalSearchPath(pbd.getDataPath())\n",
    "\n",
    "# 设置仿真环境的重力\n",
    "pb.setGravity(0, 0, -10)"
   ]
  },
  {
   "cell_type": "code",
   "execution_count": 8,
   "id": "7bc6de08",
   "metadata": {},
   "outputs": [],
   "source": [
    "# 加载模型\n",
    "plane = pb.loadURDF('plane.urdf')\n",
    "\n",
    "# 设置模型的初始位置和姿态，并加载模型\n",
    "cubePos = [0, 0, 10]\n",
    "# 软件里默认的方位角表示方式不是欧拉角，需要用getQuaternionFromEuler()转换\n",
    "cubeOrt = pb.getQuaternionFromEuler([0, 0, 0])\n",
    "cube = pb.loadURDF('cube.urdf', cubePos, cubeOrt)"
   ]
  },
  {
   "cell_type": "code",
   "execution_count": 3,
   "id": "8d944f21",
   "metadata": {},
   "outputs": [],
   "source": [
    "# 开始实时仿真\n",
    "pb.setRealTimeSimulation(enableRealTimeSimulation=1)"
   ]
  },
  {
   "cell_type": "code",
   "execution_count": 9,
   "id": "3087894e",
   "metadata": {},
   "outputs": [],
   "source": [
    "# 开始步进仿真\n",
    "while pb.isConnected():\n",
    "    pb.stepSimulation()\n",
    "    time.sleep(1.0/240)"
   ]
  },
  {
   "cell_type": "code",
   "execution_count": null,
   "id": "a381f355",
   "metadata": {},
   "outputs": [],
   "source": []
  }
 ],
 "metadata": {
  "kernelspec": {
   "display_name": "Python 3 (ipykernel)",
   "language": "python",
   "name": "python3"
  },
  "language_info": {
   "codemirror_mode": {
    "name": "ipython",
    "version": 3
   },
   "file_extension": ".py",
   "mimetype": "text/x-python",
   "name": "python",
   "nbconvert_exporter": "python",
   "pygments_lexer": "ipython3",
   "version": "3.9.11"
  }
 },
 "nbformat": 4,
 "nbformat_minor": 5
}
