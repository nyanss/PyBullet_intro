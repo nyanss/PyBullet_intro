{
 "cells": [
  {
   "cell_type": "code",
   "execution_count": 1,
   "id": "b245d976",
   "metadata": {},
   "outputs": [],
   "source": [
    "import pybullet as pb\n",
    "import pybullet_data as pbd\n",
    "\n",
    "pysicsClient = pb.connect(pb.GUI)\n",
    "pb.setAdditionalSearchPath(pbd.getDataPath())\n",
    "pb.setGravity(0, 0, -10)\n",
    "\n",
    "plane = pb.loadURDF('plane.urdf')"
   ]
  },
  {
   "cell_type": "code",
   "execution_count": 2,
   "id": "6349d426",
   "metadata": {},
   "outputs": [],
   "source": [
    "# 可以自由运动的模型(绿色)\n",
    "cylinder = pb.loadURDF('model/simple_shape.urdf', [0, 0, 1])\n",
    "pb.changeVisualShape(cylinder, -1, rgbaColor=[0, 1, 0, 1])"
   ]
  },
  {
   "cell_type": "code",
   "execution_count": 3,
   "id": "badb93c9",
   "metadata": {},
   "outputs": [],
   "source": [
    "# 加载时强行固定模型（红色）\n",
    "cylinder_static = pb.loadURDF('model/simple_shape.urdf', [1, 1, 1], useFixedBase=True)\n",
    "pb.changeVisualShape(cylinder_static, -1, rgbaColor=[1, 0, 0, 1])"
   ]
  },
  {
   "cell_type": "code",
   "execution_count": 4,
   "id": "e45b6bdb",
   "metadata": {},
   "outputs": [],
   "source": [
    "# urdf里设置了0转动惯量，但第一个模型可以转动，因为软件自动赋予模型转动惯量\n",
    "# 通过flags参数调用urdf文件里的转动惯量，得到不能转动的模型（蓝色）\n",
    "cylinder_no_rotation = pb.loadURDF('model/simple_shape.urdf', [1, -1, 1], flags=pb.URDF_USE_INERTIA_FROM_FILE)\n",
    "pb.changeVisualShape(cylinder_no_rotation, -1, rgbaColor=[0, 0, 1, 1])"
   ]
  },
  {
   "cell_type": "code",
   "execution_count": 5,
   "id": "18e652f0",
   "metadata": {},
   "outputs": [],
   "source": [
    "pb.setRealTimeSimulation(enableRealTimeSimulation=1)"
   ]
  },
  {
   "cell_type": "code",
   "execution_count": null,
   "id": "63a0aeb5",
   "metadata": {},
   "outputs": [],
   "source": []
  }
 ],
 "metadata": {
  "kernelspec": {
   "display_name": "Python 3 (ipykernel)",
   "language": "python",
   "name": "python3"
  },
  "language_info": {
   "codemirror_mode": {
    "name": "ipython",
    "version": 3
   },
   "file_extension": ".py",
   "mimetype": "text/x-python",
   "name": "python",
   "nbconvert_exporter": "python",
   "pygments_lexer": "ipython3",
   "version": "3.9.11"
  }
 },
 "nbformat": 4,
 "nbformat_minor": 5
}
