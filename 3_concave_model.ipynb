{
 "cells": [
  {
   "cell_type": "code",
   "execution_count": 1,
   "id": "ef226b79",
   "metadata": {},
   "outputs": [],
   "source": [
    "import pybullet as pb\n",
    "import pybullet_data as pbd\n",
    "\n",
    "pysicsClient = pb.connect(pb.GUI)\n",
    "pb.setAdditionalSearchPath(pbd.getDataPath())\n",
    "pb.setGravity(0, 0, -10)\n",
    "\n",
    "plane = pb.loadURDF('plane.urdf')\n",
    "\n",
    "rod1 = pb.loadURDF('/model/rod_ring/rod.urdf', [1, -1, 0])\n",
    "rod2 = pb.loadURDF('/model/rod_ring/rod.urdf', [1, 1, 0])"
   ]
  },
  {
   "cell_type": "code",
   "execution_count": 2,
   "id": "b5a2c170",
   "metadata": {},
   "outputs": [],
   "source": [
    "# 未分解的圆环（红色）\n",
    "ring1 = pb.loadURDF('model/rod_ring/ring.urdf', [1, -1, 3], pb.getQuaternionFromEuler([1.57, 0, 0]))\n",
    "pb.changeVisualShape(ring1, -1, rgbaColor=[1, 0, 0, 1])"
   ]
  },
  {
   "cell_type": "code",
   "execution_count": 3,
   "id": "8bcb773b",
   "metadata": {},
   "outputs": [],
   "source": [
    "# 分解成48份的的圆环（蓝色）\n",
    "ring2 = pb.loadURDF('model/rod_ring/ring_48.urdf', [1, 1, 3])\n",
    "for i in range(48):\n",
    "    pb.changeVisualShape(ring2, i - 1, rgbaColor=[0, 0, 1, 1])"
   ]
  },
  {
   "cell_type": "code",
   "execution_count": 4,
   "id": "d05b040e",
   "metadata": {},
   "outputs": [],
   "source": [
    "pb.setRealTimeSimulation(enableRealTimeSimulation=1)"
   ]
  },
  {
   "cell_type": "code",
   "execution_count": null,
   "id": "a3905159",
   "metadata": {},
   "outputs": [],
   "source": []
  }
 ],
 "metadata": {
  "kernelspec": {
   "display_name": "Python 3 (ipykernel)",
   "language": "python",
   "name": "python3"
  },
  "language_info": {
   "codemirror_mode": {
    "name": "ipython",
    "version": 3
   },
   "file_extension": ".py",
   "mimetype": "text/x-python",
   "name": "python",
   "nbconvert_exporter": "python",
   "pygments_lexer": "ipython3",
   "version": "3.9.11"
  }
 },
 "nbformat": 4,
 "nbformat_minor": 5
}
