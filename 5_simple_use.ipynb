{
 "cells": [
  {
   "cell_type": "code",
   "execution_count": 4,
   "id": "cfab5ee0",
   "metadata": {},
   "outputs": [],
   "source": [
    "import pybullet as pb\n",
    "import pybullet_data as pbd\n",
    "import time\n",
    "import numpy as np\n",
    "\n",
    "pysicsClient = pb.connect(pb.GUI)\n",
    "pb.setAdditionalSearchPath(pbd.getDataPath())\n",
    "pb.setGravity(0, 0, -10)\n",
    "\n",
    "plane = pb.loadURDF('plane.urdf')\n",
    "\n",
    "# 添加辅助线和文字\n",
    "pb.addUserDebugLine(lineFromXYZ=[1, -1, 0], lineToXYZ=[1, -1, 2], lineColorRGB=[1, 0, 0])\n",
    "pb.addUserDebugLine(lineFromXYZ=[1, 1, 0], lineToXYZ=[1, 1, 2], lineColorRGB=[0, 0, 1])\n",
    "pb.addUserDebugText('LeftClick', textPosition=[1, -1, 2], textColorRGB=[1, 0, 0])\n",
    "pb.addUserDebugText('RightClick', textPosition=[1, 1, 2], textColorRGB=[0, 0, 1])\n",
    "\n",
    "pb.setRealTimeSimulation(enableRealTimeSimulation=1)"
   ]
  },
  {
   "cell_type": "code",
   "execution_count": 5,
   "id": "0e47781f",
   "metadata": {},
   "outputs": [],
   "source": [
    "while pb.isConnected():\n",
    "    events = pb.getMouseEvents()\n",
    "    if events:\n",
    "        for event in events:\n",
    "            # 1鼠标移动，2鼠标点击\n",
    "            if event[0] == 2:\n",
    "                # 触发或松开了鼠标按键\n",
    "                if event[4] == pb.KEY_WAS_TRIGGERED | pb.KEY_WAS_RELEASED:\n",
    "                    # 0左键，1中键，2右键\n",
    "                    if event[3] == 0:\n",
    "                        ring_left = pb.loadURDF('model/rod_ring/ring.urdf', [1, -1, 2], pb.getQuaternionFromEuler([np.pi/2, 0, 0]))\n",
    "                        pb.changeVisualShape(ring_left, -1, rgbaColor=[1, 0, 0, 1])\n",
    "                    if event[3] == 2:\n",
    "                        ring_right = pb.loadURDF('model/rod_ring/ring.urdf', [1, 1, 2], pb.getQuaternionFromEuler([np.pi/2, 0, 0]))\n",
    "                        pb.changeVisualShape(ring_right, -1, rgbaColor=[0, 0, 1, 1])\n",
    "    # 每隔一秒检查上一秒内的鼠标操作\n",
    "    time.sleep(1)"
   ]
  },
  {
   "cell_type": "code",
   "execution_count": null,
   "id": "4f5919ef",
   "metadata": {},
   "outputs": [],
   "source": []
  }
 ],
 "metadata": {
  "kernelspec": {
   "display_name": "Python 3 (ipykernel)",
   "language": "python",
   "name": "python3"
  },
  "language_info": {
   "codemirror_mode": {
    "name": "ipython",
    "version": 3
   },
   "file_extension": ".py",
   "mimetype": "text/x-python",
   "name": "python",
   "nbconvert_exporter": "python",
   "pygments_lexer": "ipython3",
   "version": "3.9.11"
  }
 },
 "nbformat": 4,
 "nbformat_minor": 5
}
